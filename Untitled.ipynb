{
 "cells": [
  {
   "cell_type": "code",
   "execution_count": 1,
   "metadata": {},
   "outputs": [],
   "source": [
    "%matplotlib notebook\n",
    "import sys\n",
    "sys.setrecursionlimit(1000000)\n",
    "import numpy as np"
   ]
  },
  {
   "cell_type": "code",
   "execution_count": 2,
   "metadata": {},
   "outputs": [],
   "source": [
    "n = 5\n",
    "k = 5\n",
    "n_samples = 1000"
   ]
  },
  {
   "cell_type": "code",
   "execution_count": null,
   "metadata": {},
   "outputs": [],
   "source": [
    "for i in range(n):\n",
    "    s = 1.0"
   ]
  },
  {
   "cell_type": "code",
   "execution_count": 18,
   "metadata": {},
   "outputs": [],
   "source": [
    "all_vecs = []\n",
    "def gen_vectors(i=0, prefix=[]):\n",
    "    if i == n:\n",
    "        if sum(prefix) == k:\n",
    "            all_vecs.append(prefix)\n",
    "        return;\n",
    "    for j in range(k+1):\n",
    "        gen_vectors(i+1, prefix + [j])"
   ]
  },
  {
   "cell_type": "code",
   "execution_count": 19,
   "metadata": {},
   "outputs": [],
   "source": [
    "gen_vectors()"
   ]
  },
  {
   "cell_type": "code",
   "execution_count": 22,
   "metadata": {},
   "outputs": [
    {
     "name": "stdout",
     "output_type": "stream",
     "text": [
      "126\n",
      "51\n"
     ]
    }
   ],
   "source": [
    "print len(all_vecs)\n",
    "cnt = 0\n",
    "for v in all_vecs:\n",
    "#     print v,\n",
    "    if 2 * max(v) <= sum(v):\n",
    "        cnt += 1\n",
    "#     print ''\n",
    "print cnt"
   ]
  },
  {
   "cell_type": "code",
   "execution_count": 43,
   "metadata": {},
   "outputs": [],
   "source": [
    "M = 1000000007\n",
    "\n",
    "def pow_mod(b, e):\n",
    "    if e == 0:\n",
    "        return 1\n",
    "    p = pow_mod(b, e // 2)\n",
    "    p = (p * p) % M\n",
    "    if e % 2 == 1:\n",
    "        p = (p * b) % M\n",
    "    return p\n",
    "\n",
    "def inv_mod(num):\n",
    "    return pow_mod(num, M-2)\n"
   ]
  },
  {
   "cell_type": "code",
   "execution_count": 63,
   "metadata": {},
   "outputs": [
    {
     "name": "stdout",
     "output_type": "stream",
     "text": [
      "11 16\n",
      "22 32\n",
      "33 48\n",
      "44 64\n",
      "55 80\n",
      "66 96\n"
     ]
    }
   ],
   "source": [
    "for i in range(1, 100):\n",
    "    for j in range(1, i):\n",
    "        if (j * inv_mod(i)) % M == 187500002:\n",
    "            print j, i\n",
    "# inv_mod() % M"
   ]
  },
  {
   "cell_type": "code",
   "execution_count": null,
   "metadata": {},
   "outputs": [],
   "source": []
  }
 ],
 "metadata": {
  "kernelspec": {
   "display_name": "Python 2",
   "language": "python",
   "name": "python2"
  },
  "language_info": {
   "codemirror_mode": {
    "name": "ipython",
    "version": 2
   },
   "file_extension": ".py",
   "mimetype": "text/x-python",
   "name": "python",
   "nbconvert_exporter": "python",
   "pygments_lexer": "ipython2",
   "version": "2.7.15rc1"
  }
 },
 "nbformat": 4,
 "nbformat_minor": 2
}
